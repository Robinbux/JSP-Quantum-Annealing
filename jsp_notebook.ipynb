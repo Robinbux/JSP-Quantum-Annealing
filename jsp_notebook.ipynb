{
 "cells": [
  {
   "cell_type": "code",
   "execution_count": 1,
   "outputs": [],
   "source": [
    "import yaml\n",
    "\n",
    "\n",
    "params = {\n",
    "    \"eta\":    40\n",
    "    ,\"alpha\": 18\n",
    "    ,\"beta\":  27\n",
    "    ,\"gamma\": 1\n",
    "    ,\"delta\": 1\n",
    "}\n",
    "\n",
    "\n",
    "with open('parameters.yaml', 'w') as outfile:\n",
    "    yaml.dump(params, outfile, default_flow_style=False, sort_keys=False)\n"
   ],
   "metadata": {
    "collapsed": false,
    "pycharm": {
     "name": "#%%\n",
     "is_executing": false
    }
   }
  },
  {
   "cell_type": "code",
   "execution_count": null,
   "metadata": {
    "collapsed": true,
    "pycharm": {
     "is_executing": true,
     "name": "#%%\n"
    }
   },
   "outputs": [],
   "source": [
    "%load JSP.py \n",
    "import JSP as jsp\n",
    "jsp.run([\"-mqv\"])\n",
    "\n",
    "\n"
   ]
  }
 ],
 "metadata": {
  "kernelspec": {
   "display_name": "Python 3",
   "language": "python",
   "name": "python3"
  },
  "language_info": {
   "codemirror_mode": {
    "name": "ipython",
    "version": 2
   },
   "file_extension": ".py",
   "mimetype": "text/x-python",
   "name": "python",
   "nbconvert_exporter": "python",
   "pygments_lexer": "ipython2",
   "version": "2.7.6"
  },
  "pycharm": {
   "stem_cell": {
    "cell_type": "raw",
    "source": [],
    "metadata": {
     "collapsed": false
    }
   }
  }
 },
 "nbformat": 4,
 "nbformat_minor": 0
}