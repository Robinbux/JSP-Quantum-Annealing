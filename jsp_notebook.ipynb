{
 "cells": [
  {
   "cell_type": "code",
   "execution_count": 22,
   "outputs": [],
   "source": [
    "import yaml\n",
    "\n",
    "\n",
    "params = {\n",
    "    \"eta\":    1\n",
    "    ,\"alpha\": 1\n",
    "    ,\"beta\":  1\n",
    "    ,\"gamma\": 1\n",
    "    ,\"delta\": 1\n",
    "}\n",
    "\n",
    "\n",
    "with open('parameters.yaml', 'w') as outfile:\n",
    "    yaml.dump(params, outfile, default_flow_style=False, sort_keys=False)\n"
   ],
   "metadata": {
    "collapsed": false,
    "pycharm": {
     "name": "#%%\n",
     "is_executing": false
    }
   }
  },
  {
   "cell_type": "code",
   "execution_count": 23,
   "metadata": {
    "collapsed": true,
    "pycharm": {
     "is_executing": false,
     "name": "#%%\n"
    }
   },
   "outputs": [
    {
     "name": "stdout",
     "text": [
      "{0: 1, 1: 4, 2: 6, 3: 5, 5: 0}\n",
      "FAILED AT h3.\n",
      "ETA: 4\n",
      "ALPHA: 7\n",
      "BETA: 7\n",
      "Previous successful tries: 0\n"
     ],
     "output_type": "stream"
    },
    {
     "traceback": [
      "An exception has occurred, use %tb to see the full traceback.\n",
      "\u001b[0;31mSystemExit\u001b[0m\n"
     ],
     "ename": "SystemExit",
     "evalue": "",
     "output_type": "error"
    }
   ],
   "source": [
    "%load JSP.py \n",
    "import JSP as jsp\n",
    "jsp.run([\"-vm\"])\n",
    "\n",
    "\n"
   ]
  }
 ],
 "metadata": {
  "kernelspec": {
   "display_name": "Python 3",
   "language": "python",
   "name": "python3"
  },
  "language_info": {
   "codemirror_mode": {
    "name": "ipython",
    "version": 2
   },
   "file_extension": ".py",
   "mimetype": "text/x-python",
   "name": "python",
   "nbconvert_exporter": "python",
   "pygments_lexer": "ipython2",
   "version": "2.7.6"
  },
  "pycharm": {
   "stem_cell": {
    "cell_type": "raw",
    "source": [],
    "metadata": {
     "collapsed": false
    }
   }
  }
 },
 "nbformat": 4,
 "nbformat_minor": 0
}